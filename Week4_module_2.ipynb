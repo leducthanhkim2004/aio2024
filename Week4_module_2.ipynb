{
  "nbformat": 4,
  "nbformat_minor": 0,
  "metadata": {
    "colab": {
      "provenance": [],
      "mount_file_id": "1pdEsqCwE-AQKpq8kPCAR7xE978dTzRvi",
      "authorship_tag": "ABX9TyOddnVVAXqX1YrV3F1Ria7a",
      "include_colab_link": true
    },
    "kernelspec": {
      "name": "python3",
      "display_name": "Python 3"
    },
    "language_info": {
      "name": "python"
    }
  },
  "cells": [
    {
      "cell_type": "markdown",
      "metadata": {
        "id": "view-in-github",
        "colab_type": "text"
      },
      "source": [
        "<a href=\"https://colab.research.google.com/github/leducthanhkim2004/aio2024/blob/main/Week4_module_2.ipynb\" target=\"_parent\"><img src=\"https://colab.research.google.com/assets/colab-badge.svg\" alt=\"Open In Colab\"/></a>"
      ]
    },
    {
      "cell_type": "code",
      "execution_count": 5,
      "metadata": {
        "colab": {
          "base_uri": "https://localhost:8080/"
        },
        "id": "Cq-c2TAzOoFp",
        "outputId": "c3cbfed7-7177-4293-c8a9-5caf2b9adcc3"
      },
      "outputs": [
        {
          "output_type": "stream",
          "name": "stdout",
          "text": [
            "1.8\n"
          ]
        }
      ],
      "source": [
        "import numpy as np\n",
        "def compute_mean(X):\n",
        "  return 1/len(X)*np.sum(X)\n",
        "X=[2 , 0 , 2 , 2 , 7, 4 , -2 , 5 , -1 , -1]\n",
        "print(np.mean(X))\n",
        "assert(compute_mean(X)==np.mean(X))"
      ]
    },
    {
      "cell_type": "code",
      "source": [
        "def compute_median(X):\n",
        "  size= len(X)\n",
        "  X=np.sort(X)\n",
        "  print(X)\n",
        "  if (size % 2 ==0):\n",
        "    return (X[size//2]+X[size//2-1])/2\n",
        "  else:\n",
        "      return X[size//2]\n",
        "X = [1 , 5 , 4 , 4 , 9, 13]\n",
        "assert(compute_median(X)==np.median(X))\n",
        "print(\"Median\",compute_median(X))"
      ],
      "metadata": {
        "colab": {
          "base_uri": "https://localhost:8080/"
        },
        "id": "z9-la9H4PW2a",
        "outputId": "40adf482-7571-4f33-9375-5a0d127b57c6"
      },
      "execution_count": 14,
      "outputs": [
        {
          "output_type": "stream",
          "name": "stdout",
          "text": [
            "[ 1  4  4  5  9 13]\n",
            "[ 1  4  4  5  9 13]\n",
            "Median 4.5\n"
          ]
        }
      ]
    },
    {
      "cell_type": "code",
      "source": [
        "def compute_std_variance(X):\n",
        "  mean =compute_mean(X)\n",
        "  variance = 0\n",
        "  sum_square = 0\n",
        "  for element in X:\n",
        "    sum_square += (element - mean)**2\n",
        "  variance =sum_square/len(X)\n",
        "  return variance, np.sqrt(variance)\n",
        "X = [ 171 , 176 , 155 , 167 , 169 , 182]\n",
        "print ( compute_std_variance( X )[1] )"
      ],
      "metadata": {
        "colab": {
          "base_uri": "https://localhost:8080/"
        },
        "id": "09USwiIzRPJt",
        "outputId": "73dd2670-6de3-4b30-efd7-4b2d49406214"
      },
      "execution_count": 21,
      "outputs": [
        {
          "output_type": "stream",
          "name": "stdout",
          "text": [
            "8.32666399786453\n"
          ]
        }
      ]
    },
    {
      "cell_type": "code",
      "source": [
        "import numpy as np\n",
        "\n",
        "def compute_correlation_coefficient(X, Y):\n",
        "    N = len(X)\n",
        "    sum_X = np.sum(X)\n",
        "    sum_Y = np.sum(Y)\n",
        "    sum_XY = np.sum(X * Y)\n",
        "    sum_X2 = np.sum(X ** 2)\n",
        "    sum_Y2 = np.sum(Y ** 2)\n",
        "\n",
        "    numerator = N * sum_XY - sum_X * sum_Y\n",
        "    denominator = np.sqrt((N * sum_X2 - sum_X ** 2) * (N * sum_Y2 - sum_Y ** 2))\n",
        "\n",
        "    return np.round(numerator / denominator, 2)\n",
        "\n",
        "X = np.asarray([-2, -5, -11, 6, 4, 15, 9])\n",
        "Y = np.asarray([4, 25, 121, 36, 16, 225, 81])\n",
        "print(\"Correlation:\", compute_correlation_coefficient(X, Y))\n"
      ],
      "metadata": {
        "colab": {
          "base_uri": "https://localhost:8080/"
        },
        "id": "vFv_Z8hOSGO0",
        "outputId": "f2661284-ff4d-4c49-e4ed-1b7d3fcb503f"
      },
      "execution_count": 44,
      "outputs": [
        {
          "output_type": "stream",
          "name": "stdout",
          "text": [
            "Correlation: 0.42\n"
          ]
        }
      ]
    },
    {
      "cell_type": "code",
      "source": [
        "#!gdown --id 1iA0WmVfW88HyJvTBSQDI5vesf-pgKabq\n",
        "import pandas as pd\n",
        "data =pd.read_csv(\"/content/advertising.csv\")\n",
        "def correlation(x,y):\n",
        "  x_mean=compute_mean(x)\n",
        "  y_mean=compute_mean(y)\n",
        "  x_minus_x_mean= x -x_mean\n",
        "  y_minus_y_mean =y-y_mean\n",
        "  nominator = np.sum(x_minus_x_mean*y_minus_y_mean)\n",
        "  denominator = np.sqrt(np.sum(x_minus_x_mean**2)*np.sum(y_minus_y_mean**2))\n",
        "  return nominator /denominator\n",
        "x = data ['TV']\n",
        "y = data ['Radio']\n",
        "corr_xy = correlation(x , y )\n",
        "print ( f\" Correlation between TV and Sales : { round ( corr_xy , 2)}\")\n"
      ],
      "metadata": {
        "colab": {
          "base_uri": "https://localhost:8080/"
        },
        "id": "JRjuiXgwampT",
        "outputId": "1e712af1-9b90-44e5-8bd6-19b22ae9b57a"
      },
      "execution_count": 58,
      "outputs": [
        {
          "output_type": "stream",
          "name": "stdout",
          "text": [
            " Correlation between TV and Sales : 0.05\n"
          ]
        }
      ]
    },
    {
      "cell_type": "code",
      "source": [
        "import pandas as pd\n",
        "import numpy as np\n",
        "\n",
        "# Load the data\n",
        "data = pd.read_csv(\"/content/advertising.csv\")\n",
        "\n",
        "def correlation(x, y):\n",
        "    x_mean = np.mean(x)\n",
        "    y_mean = np.mean(y)\n",
        "\n",
        "    x_minus_x_mean = x - x_mean\n",
        "    y_minus_y_mean = y - y_mean\n",
        "\n",
        "    nominator = np.sum(x_minus_x_mean * y_minus_y_mean)\n",
        "    denominator = np.sqrt(np.sum(x_minus_x_mean ** 2) * np.sum(y_minus_y_mean ** 2))\n",
        "\n",
        "    return np.round(nominator / denominator, 2)\n",
        "\n",
        "features = ['TV', 'Radio', 'Newspaper']\n",
        "\n",
        "for feature_1 in features:\n",
        "    for feature_2 in features:\n",
        "        correlation_value = correlation(data[feature_1], data[feature_2])\n",
        "        print(f\"Correlation between {feature_1} and {feature_2}: {correlation_value}\")\n"
      ],
      "metadata": {
        "colab": {
          "base_uri": "https://localhost:8080/"
        },
        "id": "HEd9jdL_iEWc",
        "outputId": "a3a28c93-181e-4eca-c019-0bf76bb65fa9"
      },
      "execution_count": 72,
      "outputs": [
        {
          "output_type": "stream",
          "name": "stdout",
          "text": [
            "Correlation between TV and TV: 1.0\n",
            "Correlation between TV and Radio: 0.05\n",
            "Correlation between TV and Newspaper: 0.06\n",
            "Correlation between Radio and TV: 0.05\n",
            "Correlation between Radio and Radio: 1.0\n",
            "Correlation between Radio and Newspaper: 0.35\n",
            "Correlation between Newspaper and TV: 0.06\n",
            "Correlation between Newspaper and Radio: 0.35\n",
            "Correlation between Newspaper and Newspaper: 1.0\n"
          ]
        }
      ]
    },
    {
      "cell_type": "code",
      "source": [
        "x=data['Radio']\n",
        "y=data['Newspaper']\n",
        "print(np.corrcoef(x,y))"
      ],
      "metadata": {
        "colab": {
          "base_uri": "https://localhost:8080/"
        },
        "id": "HZpvnOSxk2K4",
        "outputId": "5663c536-17bf-4867-a329-4e296804f375"
      },
      "execution_count": 75,
      "outputs": [
        {
          "output_type": "stream",
          "name": "stdout",
          "text": [
            "[[1.         0.05480866]\n",
            " [0.05480866 1.        ]]\n"
          ]
        }
      ]
    },
    {
      "cell_type": "code",
      "source": [
        "data.corr()"
      ],
      "metadata": {
        "colab": {
          "base_uri": "https://localhost:8080/",
          "height": 175
        },
        "id": "v5xp9Wq9lPjY",
        "outputId": "61616fab-4a8b-48b0-c885-330174e5c717"
      },
      "execution_count": 77,
      "outputs": [
        {
          "output_type": "execute_result",
          "data": {
            "text/plain": [
              "                 TV     Radio  Newspaper     Sales\n",
              "TV         1.000000  0.054809   0.056648  0.901208\n",
              "Radio      0.054809  1.000000   0.354104  0.349631\n",
              "Newspaper  0.056648  0.354104   1.000000  0.157960\n",
              "Sales      0.901208  0.349631   0.157960  1.000000"
            ],
            "text/html": [
              "\n",
              "  <div id=\"df-09029ca7-a8a5-49c8-a8e8-45505ea47f7d\" class=\"colab-df-container\">\n",
              "    <div>\n",
              "<style scoped>\n",
              "    .dataframe tbody tr th:only-of-type {\n",
              "        vertical-align: middle;\n",
              "    }\n",
              "\n",
              "    .dataframe tbody tr th {\n",
              "        vertical-align: top;\n",
              "    }\n",
              "\n",
              "    .dataframe thead th {\n",
              "        text-align: right;\n",
              "    }\n",
              "</style>\n",
              "<table border=\"1\" class=\"dataframe\">\n",
              "  <thead>\n",
              "    <tr style=\"text-align: right;\">\n",
              "      <th></th>\n",
              "      <th>TV</th>\n",
              "      <th>Radio</th>\n",
              "      <th>Newspaper</th>\n",
              "      <th>Sales</th>\n",
              "    </tr>\n",
              "  </thead>\n",
              "  <tbody>\n",
              "    <tr>\n",
              "      <th>TV</th>\n",
              "      <td>1.000000</td>\n",
              "      <td>0.054809</td>\n",
              "      <td>0.056648</td>\n",
              "      <td>0.901208</td>\n",
              "    </tr>\n",
              "    <tr>\n",
              "      <th>Radio</th>\n",
              "      <td>0.054809</td>\n",
              "      <td>1.000000</td>\n",
              "      <td>0.354104</td>\n",
              "      <td>0.349631</td>\n",
              "    </tr>\n",
              "    <tr>\n",
              "      <th>Newspaper</th>\n",
              "      <td>0.056648</td>\n",
              "      <td>0.354104</td>\n",
              "      <td>1.000000</td>\n",
              "      <td>0.157960</td>\n",
              "    </tr>\n",
              "    <tr>\n",
              "      <th>Sales</th>\n",
              "      <td>0.901208</td>\n",
              "      <td>0.349631</td>\n",
              "      <td>0.157960</td>\n",
              "      <td>1.000000</td>\n",
              "    </tr>\n",
              "  </tbody>\n",
              "</table>\n",
              "</div>\n",
              "    <div class=\"colab-df-buttons\">\n",
              "\n",
              "  <div class=\"colab-df-container\">\n",
              "    <button class=\"colab-df-convert\" onclick=\"convertToInteractive('df-09029ca7-a8a5-49c8-a8e8-45505ea47f7d')\"\n",
              "            title=\"Convert this dataframe to an interactive table.\"\n",
              "            style=\"display:none;\">\n",
              "\n",
              "  <svg xmlns=\"http://www.w3.org/2000/svg\" height=\"24px\" viewBox=\"0 -960 960 960\">\n",
              "    <path d=\"M120-120v-720h720v720H120Zm60-500h600v-160H180v160Zm220 220h160v-160H400v160Zm0 220h160v-160H400v160ZM180-400h160v-160H180v160Zm440 0h160v-160H620v160ZM180-180h160v-160H180v160Zm440 0h160v-160H620v160Z\"/>\n",
              "  </svg>\n",
              "    </button>\n",
              "\n",
              "  <style>\n",
              "    .colab-df-container {\n",
              "      display:flex;\n",
              "      gap: 12px;\n",
              "    }\n",
              "\n",
              "    .colab-df-convert {\n",
              "      background-color: #E8F0FE;\n",
              "      border: none;\n",
              "      border-radius: 50%;\n",
              "      cursor: pointer;\n",
              "      display: none;\n",
              "      fill: #1967D2;\n",
              "      height: 32px;\n",
              "      padding: 0 0 0 0;\n",
              "      width: 32px;\n",
              "    }\n",
              "\n",
              "    .colab-df-convert:hover {\n",
              "      background-color: #E2EBFA;\n",
              "      box-shadow: 0px 1px 2px rgba(60, 64, 67, 0.3), 0px 1px 3px 1px rgba(60, 64, 67, 0.15);\n",
              "      fill: #174EA6;\n",
              "    }\n",
              "\n",
              "    .colab-df-buttons div {\n",
              "      margin-bottom: 4px;\n",
              "    }\n",
              "\n",
              "    [theme=dark] .colab-df-convert {\n",
              "      background-color: #3B4455;\n",
              "      fill: #D2E3FC;\n",
              "    }\n",
              "\n",
              "    [theme=dark] .colab-df-convert:hover {\n",
              "      background-color: #434B5C;\n",
              "      box-shadow: 0px 1px 3px 1px rgba(0, 0, 0, 0.15);\n",
              "      filter: drop-shadow(0px 1px 2px rgba(0, 0, 0, 0.3));\n",
              "      fill: #FFFFFF;\n",
              "    }\n",
              "  </style>\n",
              "\n",
              "    <script>\n",
              "      const buttonEl =\n",
              "        document.querySelector('#df-09029ca7-a8a5-49c8-a8e8-45505ea47f7d button.colab-df-convert');\n",
              "      buttonEl.style.display =\n",
              "        google.colab.kernel.accessAllowed ? 'block' : 'none';\n",
              "\n",
              "      async function convertToInteractive(key) {\n",
              "        const element = document.querySelector('#df-09029ca7-a8a5-49c8-a8e8-45505ea47f7d');\n",
              "        const dataTable =\n",
              "          await google.colab.kernel.invokeFunction('convertToInteractive',\n",
              "                                                    [key], {});\n",
              "        if (!dataTable) return;\n",
              "\n",
              "        const docLinkHtml = 'Like what you see? Visit the ' +\n",
              "          '<a target=\"_blank\" href=https://colab.research.google.com/notebooks/data_table.ipynb>data table notebook</a>'\n",
              "          + ' to learn more about interactive tables.';\n",
              "        element.innerHTML = '';\n",
              "        dataTable['output_type'] = 'display_data';\n",
              "        await google.colab.output.renderOutput(dataTable, element);\n",
              "        const docLink = document.createElement('div');\n",
              "        docLink.innerHTML = docLinkHtml;\n",
              "        element.appendChild(docLink);\n",
              "      }\n",
              "    </script>\n",
              "  </div>\n",
              "\n",
              "\n",
              "<div id=\"df-69270188-01b7-42eb-9e3d-4a7344f0596d\">\n",
              "  <button class=\"colab-df-quickchart\" onclick=\"quickchart('df-69270188-01b7-42eb-9e3d-4a7344f0596d')\"\n",
              "            title=\"Suggest charts\"\n",
              "            style=\"display:none;\">\n",
              "\n",
              "<svg xmlns=\"http://www.w3.org/2000/svg\" height=\"24px\"viewBox=\"0 0 24 24\"\n",
              "     width=\"24px\">\n",
              "    <g>\n",
              "        <path d=\"M19 3H5c-1.1 0-2 .9-2 2v14c0 1.1.9 2 2 2h14c1.1 0 2-.9 2-2V5c0-1.1-.9-2-2-2zM9 17H7v-7h2v7zm4 0h-2V7h2v10zm4 0h-2v-4h2v4z\"/>\n",
              "    </g>\n",
              "</svg>\n",
              "  </button>\n",
              "\n",
              "<style>\n",
              "  .colab-df-quickchart {\n",
              "      --bg-color: #E8F0FE;\n",
              "      --fill-color: #1967D2;\n",
              "      --hover-bg-color: #E2EBFA;\n",
              "      --hover-fill-color: #174EA6;\n",
              "      --disabled-fill-color: #AAA;\n",
              "      --disabled-bg-color: #DDD;\n",
              "  }\n",
              "\n",
              "  [theme=dark] .colab-df-quickchart {\n",
              "      --bg-color: #3B4455;\n",
              "      --fill-color: #D2E3FC;\n",
              "      --hover-bg-color: #434B5C;\n",
              "      --hover-fill-color: #FFFFFF;\n",
              "      --disabled-bg-color: #3B4455;\n",
              "      --disabled-fill-color: #666;\n",
              "  }\n",
              "\n",
              "  .colab-df-quickchart {\n",
              "    background-color: var(--bg-color);\n",
              "    border: none;\n",
              "    border-radius: 50%;\n",
              "    cursor: pointer;\n",
              "    display: none;\n",
              "    fill: var(--fill-color);\n",
              "    height: 32px;\n",
              "    padding: 0;\n",
              "    width: 32px;\n",
              "  }\n",
              "\n",
              "  .colab-df-quickchart:hover {\n",
              "    background-color: var(--hover-bg-color);\n",
              "    box-shadow: 0 1px 2px rgba(60, 64, 67, 0.3), 0 1px 3px 1px rgba(60, 64, 67, 0.15);\n",
              "    fill: var(--button-hover-fill-color);\n",
              "  }\n",
              "\n",
              "  .colab-df-quickchart-complete:disabled,\n",
              "  .colab-df-quickchart-complete:disabled:hover {\n",
              "    background-color: var(--disabled-bg-color);\n",
              "    fill: var(--disabled-fill-color);\n",
              "    box-shadow: none;\n",
              "  }\n",
              "\n",
              "  .colab-df-spinner {\n",
              "    border: 2px solid var(--fill-color);\n",
              "    border-color: transparent;\n",
              "    border-bottom-color: var(--fill-color);\n",
              "    animation:\n",
              "      spin 1s steps(1) infinite;\n",
              "  }\n",
              "\n",
              "  @keyframes spin {\n",
              "    0% {\n",
              "      border-color: transparent;\n",
              "      border-bottom-color: var(--fill-color);\n",
              "      border-left-color: var(--fill-color);\n",
              "    }\n",
              "    20% {\n",
              "      border-color: transparent;\n",
              "      border-left-color: var(--fill-color);\n",
              "      border-top-color: var(--fill-color);\n",
              "    }\n",
              "    30% {\n",
              "      border-color: transparent;\n",
              "      border-left-color: var(--fill-color);\n",
              "      border-top-color: var(--fill-color);\n",
              "      border-right-color: var(--fill-color);\n",
              "    }\n",
              "    40% {\n",
              "      border-color: transparent;\n",
              "      border-right-color: var(--fill-color);\n",
              "      border-top-color: var(--fill-color);\n",
              "    }\n",
              "    60% {\n",
              "      border-color: transparent;\n",
              "      border-right-color: var(--fill-color);\n",
              "    }\n",
              "    80% {\n",
              "      border-color: transparent;\n",
              "      border-right-color: var(--fill-color);\n",
              "      border-bottom-color: var(--fill-color);\n",
              "    }\n",
              "    90% {\n",
              "      border-color: transparent;\n",
              "      border-bottom-color: var(--fill-color);\n",
              "    }\n",
              "  }\n",
              "</style>\n",
              "\n",
              "  <script>\n",
              "    async function quickchart(key) {\n",
              "      const quickchartButtonEl =\n",
              "        document.querySelector('#' + key + ' button');\n",
              "      quickchartButtonEl.disabled = true;  // To prevent multiple clicks.\n",
              "      quickchartButtonEl.classList.add('colab-df-spinner');\n",
              "      try {\n",
              "        const charts = await google.colab.kernel.invokeFunction(\n",
              "            'suggestCharts', [key], {});\n",
              "      } catch (error) {\n",
              "        console.error('Error during call to suggestCharts:', error);\n",
              "      }\n",
              "      quickchartButtonEl.classList.remove('colab-df-spinner');\n",
              "      quickchartButtonEl.classList.add('colab-df-quickchart-complete');\n",
              "    }\n",
              "    (() => {\n",
              "      let quickchartButtonEl =\n",
              "        document.querySelector('#df-69270188-01b7-42eb-9e3d-4a7344f0596d button');\n",
              "      quickchartButtonEl.style.display =\n",
              "        google.colab.kernel.accessAllowed ? 'block' : 'none';\n",
              "    })();\n",
              "  </script>\n",
              "</div>\n",
              "\n",
              "    </div>\n",
              "  </div>\n"
            ],
            "application/vnd.google.colaboratory.intrinsic+json": {
              "type": "dataframe",
              "summary": "{\n  \"name\": \"data\",\n  \"rows\": 4,\n  \"fields\": [\n    {\n      \"column\": \"TV\",\n      \"properties\": {\n        \"dtype\": \"number\",\n        \"std\": 0.5182290756712874,\n        \"min\": 0.05480866446583008,\n        \"max\": 1.0,\n        \"num_unique_values\": 4,\n        \"samples\": [\n          0.05480866446583008,\n          0.9012079133023315,\n          1.0\n        ],\n        \"semantic_type\": \"\",\n        \"description\": \"\"\n      }\n    },\n    {\n      \"column\": \"Radio\",\n      \"properties\": {\n        \"dtype\": \"number\",\n        \"std\": 0.39896388261461313,\n        \"min\": 0.05480866446583008,\n        \"max\": 1.0,\n        \"num_unique_values\": 4,\n        \"samples\": [\n          1.0,\n          0.34963109700766926,\n          0.05480866446583008\n        ],\n        \"semantic_type\": \"\",\n        \"description\": \"\"\n      }\n    },\n    {\n      \"column\": \"Newspaper\",\n      \"properties\": {\n        \"dtype\": \"number\",\n        \"std\": 0.42360978750776684,\n        \"min\": 0.05664787496505698,\n        \"max\": 1.0,\n        \"num_unique_values\": 4,\n        \"samples\": [\n          0.35410375076117534,\n          0.15796002615492621,\n          0.05664787496505698\n        ],\n        \"semantic_type\": \"\",\n        \"description\": \"\"\n      }\n    },\n    {\n      \"column\": \"Sales\",\n      \"properties\": {\n        \"dtype\": \"number\",\n        \"std\": 0.4118214731886475,\n        \"min\": 0.15796002615492621,\n        \"max\": 1.0,\n        \"num_unique_values\": 4,\n        \"samples\": [\n          0.34963109700766926,\n          1.0,\n          0.9012079133023315\n        ],\n        \"semantic_type\": \"\",\n        \"description\": \"\"\n      }\n    }\n  ]\n}"
            }
          },
          "metadata": {},
          "execution_count": 77
        }
      ]
    },
    {
      "cell_type": "code",
      "source": [
        "#!gdown --id 1jh2p2DlaWsDo_vEWIcTrNh3mUuXd-cw6\n",
        "import pandas as pd\n",
        "import numpy as np\n",
        "from sklearn.metrics.pairwise import cosine_similarity\n",
        "from sklearn.feature_extraction.text import  TfidfVectorizer\n",
        "vi_data_df = pd . read_csv (\"/content/vi_text_retrieval.csv\")\n",
        "context = vi_data_df ['text']\n",
        "context = [ doc . lower () for doc in context ]\n",
        "tfidf_vectorizer = TfidfVectorizer ()\n",
        "context_embedded = tfidf_vectorizer.fit_transform (context)\n",
        "context_embedded . toarray () [7][0]"
      ],
      "metadata": {
        "colab": {
          "base_uri": "https://localhost:8080/"
        },
        "id": "4cznqNJImFF3",
        "outputId": "2ec08ae5-f5a3-4e43-bd0c-e7ade7760a68"
      },
      "execution_count": 105,
      "outputs": [
        {
          "output_type": "execute_result",
          "data": {
            "text/plain": [
              "0.31126580760710637"
            ]
          },
          "metadata": {},
          "execution_count": 105
        }
      ]
    },
    {
      "cell_type": "code",
      "source": [
        "from sklearn.metrics.pairwise import cosine_similarity\n",
        "\n",
        "def tfidf_search(question, tfidf_vectorizer, top_d=5):\n",
        "    # Lowercasing before encoding\n",
        "    question = [word.lower() for word in question.split()]\n",
        "\n",
        "    # Transform the query into TF-IDF vector\n",
        "    query_embedded = tfidf_vectorizer.transform([' '.join(question)])\n",
        "\n",
        "    # Compute cosine similarity between the query and all documents\n",
        "    cosine_scores = cosine_similarity(query_embedded, context_embedded).flatten()\n",
        "\n",
        "    # Get top k cosine score and index its\n",
        "    results = []\n",
        "    for idx in cosine_scores.argsort()[-top_d:][::-1]:\n",
        "        doc_score = {\n",
        "            'cosine_score': cosine_scores[idx],\n",
        "            'idx': idx\n",
        "        }\n",
        "        results.append(doc_score)\n",
        "\n",
        "    return results\n",
        "\n",
        "# Example usage\n",
        "question = vi_data_df.iloc[0]['question']\n",
        "results = tfidf_search(question, tfidf_vectorizer, top_d=5)\n",
        "\n",
        "# Output the cosine score of the top result\n",
        "print(results[0]['cosine_score'])\n"
      ],
      "metadata": {
        "colab": {
          "base_uri": "https://localhost:8080/"
        },
        "id": "JDWYGmiUmFQr",
        "outputId": "683d78da-eebe-47a4-b17e-92a00b91a67c"
      },
      "execution_count": 103,
      "outputs": [
        {
          "output_type": "stream",
          "name": "stdout",
          "text": [
            "0.6279910475266974\n"
          ]
        }
      ]
    },
    {
      "cell_type": "code",
      "source": [
        "from sklearn.metrics.pairwise import cosine_similarity\n",
        "\n",
        "def corr_search(question, tfidf_vectorizer, top_d=5):\n",
        "    # Lowercasing before encoding\n",
        "    query_embedded = tfidf_vectorizer.transform([question.lower()])\n",
        "\n",
        "    # Compute cosine similarity between the query and all documents\n",
        "    corr_scores = cosine_similarity(query_embedded, context_embedded)\n",
        "\n",
        "    # Flatten the array and remove self-correlation\n",
        "    corr_scores = corr_scores.flatten()\n",
        "\n",
        "    # Get top k correlation score and index its\n",
        "    results = []\n",
        "    for idx in corr_scores.argsort()[-top_d:][::-1]:\n",
        "        doc = {\n",
        "            'id': idx,\n",
        "            'corr_score': corr_scores[idx]\n",
        "        }\n",
        "        results.append(doc)\n",
        "\n",
        "    return results\n",
        "\n",
        "# Example usage\n",
        "question = vi_data_df.iloc[0]['question']\n",
        "results = corr_search(question, tfidf_vectorizer, top_d=5)\n",
        "\n",
        "# Output the correlation score of the second top result\n",
        "print(results[1]['corr_score'])\n"
      ],
      "metadata": {
        "colab": {
          "base_uri": "https://localhost:8080/"
        },
        "id": "B-MjEHk8mFx-",
        "outputId": "d6707a35-39d2-4212-cd68-83fa8d9d10cb"
      },
      "execution_count": 104,
      "outputs": [
        {
          "output_type": "stream",
          "name": "stdout",
          "text": [
            "0.2114579586225163\n"
          ]
        }
      ]
    },
    {
      "cell_type": "code",
      "source": [],
      "metadata": {
        "id": "y2_mVRhvlYQ4"
      },
      "execution_count": null,
      "outputs": []
    }
  ]
}