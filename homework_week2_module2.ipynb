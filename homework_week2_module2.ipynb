{
  "nbformat": 4,
  "nbformat_minor": 0,
  "metadata": {
    "colab": {
      "provenance": [],
      "mount_file_id": "1MMtRw8E0YkigIOiy34ELOQ4x2ccgR_iS",
      "authorship_tag": "ABX9TyPoSuR5uVvLgXsGLKFutgWI",
      "include_colab_link": true
    },
    "kernelspec": {
      "name": "python3",
      "display_name": "Python 3"
    },
    "language_info": {
      "name": "python"
    }
  },
  "cells": [
    {
      "cell_type": "markdown",
      "metadata": {
        "id": "view-in-github",
        "colab_type": "text"
      },
      "source": [
        "<a href=\"https://colab.research.google.com/github/leducthanhkim2004/aio2024/blob/main/homework_week2_module2.ipynb\" target=\"_parent\"><img src=\"https://colab.research.google.com/assets/colab-badge.svg\" alt=\"Open In Colab\"/></a>"
      ]
    },
    {
      "cell_type": "code",
      "execution_count": 2,
      "metadata": {
        "id": "eAqPaEiBNVcP"
      },
      "outputs": [],
      "source": [
        "import numpy as np\n",
        "def compute_vector_length(vector):\n",
        "  return np.sqrt(np.sum(vector**2))\n",
        "def compute_dot_product(vector1,vector2):\n",
        "  return np.dot(vector1,vector2)\n",
        "def matrix_multi_vector(matrix,vector):\n",
        "  return np.dot(matrix,vector)\n",
        "def matrix_multi_matrix(matrix1,matrix2):\n",
        "  return np.dot(matrix1,matrix2)\n"
      ]
    },
    {
      "cell_type": "code",
      "source": [
        "def inverse_matrix(matrix):\n",
        "  return np.linalg.inv(matrix)\n"
      ],
      "metadata": {
        "id": "DJ0A6fJCPq0o"
      },
      "execution_count": 3,
      "outputs": []
    },
    {
      "cell_type": "code",
      "source": [
        "def compute_eigenvalues_eigenvectors(matrix):\n",
        "  eigenvalues=np.linalg.eigvals(matrix)\n",
        "  eigenvector=np.linalg.eig(matrix)\n",
        "  return eigenvalues,eigenvector\n"
      ],
      "metadata": {
        "id": "gEDzzXpdRlKC"
      },
      "execution_count": 18,
      "outputs": []
    },
    {
      "cell_type": "code",
      "source": [
        "from numpy.linalg import norm\n",
        "def compute_cosine(A,B):\n",
        "  return np.dot(A,B)/(norm(A)*norm(B))\n"
      ],
      "metadata": {
        "id": "38KJuOW5STaw"
      },
      "execution_count": 31,
      "outputs": []
    },
    {
      "cell_type": "code",
      "source": [
        "vector = np. array ([ -2 , 4 , 9 , 21])\n",
        "result = compute_vector_length (vector)\n",
        "print ( round (result ,2) )"
      ],
      "metadata": {
        "colab": {
          "base_uri": "https://localhost:8080/"
        },
        "id": "aG77r-nySvyS",
        "outputId": "ae3d03a8-9c5e-4664-ba75-105c413f0652"
      },
      "execution_count": 5,
      "outputs": [
        {
          "output_type": "stream",
          "name": "stdout",
          "text": [
            "23.28\n"
          ]
        }
      ]
    },
    {
      "cell_type": "code",
      "source": [
        "v1 = np. array ([0 , 1 , -1 , 2])\n",
        "v2 = np. array ([2 , 5 , 1 , 0])\n",
        "result = compute_dot_product (v1 , v2)\n",
        "print ( round (result ,2) )"
      ],
      "metadata": {
        "colab": {
          "base_uri": "https://localhost:8080/"
        },
        "id": "fnm7ZgYnTGgv",
        "outputId": "7dd7e0de-7785-4b77-e10f-679d172fb910"
      },
      "execution_count": 6,
      "outputs": [
        {
          "output_type": "stream",
          "name": "stdout",
          "text": [
            "4\n"
          ]
        }
      ]
    },
    {
      "cell_type": "code",
      "source": [
        "x = np. array ([[1 , 2] ,\n",
        "                [3 , 4]])\n",
        "k = np. array ([1 , 2])\n",
        "print('result \\n', x.dot (k) )"
      ],
      "metadata": {
        "colab": {
          "base_uri": "https://localhost:8080/"
        },
        "id": "8N-XnYevTNks",
        "outputId": "ba248bf3-a5e7-4624-d64c-0cbeb302055f"
      },
      "execution_count": 7,
      "outputs": [
        {
          "output_type": "stream",
          "name": "stdout",
          "text": [
            "result \n",
            " [ 5 11]\n"
          ]
        }
      ]
    },
    {
      "cell_type": "code",
      "source": [
        "x = np. array ([[ -1 , 2] ,\n",
        "[3 , -4]])\n",
        "k = np. array ([1 , 2])\n",
        "print ('result \\n', x@k )"
      ],
      "metadata": {
        "colab": {
          "base_uri": "https://localhost:8080/"
        },
        "id": "-sIWeN2KTau6",
        "outputId": "df8860f4-ebbf-43b7-e852-5f99540d84c4"
      },
      "execution_count": 8,
      "outputs": [
        {
          "output_type": "stream",
          "name": "stdout",
          "text": [
            "result \n",
            " [ 3 -5]\n"
          ]
        }
      ]
    },
    {
      "cell_type": "code",
      "source": [
        "m = np. array ([[ -1 , 1 , 1] , [0 , -4 , 9]])\n",
        "v = np. array ([0 , 2 , 1])\n",
        "result = matrix_multi_vector (m, v)\n",
        "print ( result )"
      ],
      "metadata": {
        "colab": {
          "base_uri": "https://localhost:8080/"
        },
        "id": "bxWzmgsmTiEB",
        "outputId": "22dca78b-4473-422f-f267-69727912f1e6"
      },
      "execution_count": 9,
      "outputs": [
        {
          "output_type": "stream",
          "name": "stdout",
          "text": [
            "[3 1]\n"
          ]
        }
      ]
    },
    {
      "cell_type": "code",
      "source": [
        "m1 = np. array ([[0 , 1 , 2] , [2 , -3 , 1]])\n",
        "m2 = np. array ([[1 , -3] ,[6 , 1] , [0 , -1]])\n",
        "result = matrix_multi_matrix (m1 , m2)\n",
        "print ( result )"
      ],
      "metadata": {
        "colab": {
          "base_uri": "https://localhost:8080/"
        },
        "id": "bZESPsm9TodR",
        "outputId": "b96be9a8-5f26-4212-bc52-ccf5414b4d7f"
      },
      "execution_count": 10,
      "outputs": [
        {
          "output_type": "stream",
          "name": "stdout",
          "text": [
            "[[  6  -1]\n",
            " [-16 -10]]\n"
          ]
        }
      ]
    },
    {
      "cell_type": "code",
      "source": [
        "m1 = np.eye (3)\n",
        "m2 = np. array ([[1 , 1 , 1] ,[2 , 2 , 2] , [3 , 3 , 3]])\n",
        "result = m1@m2\n",
        "print ( result )"
      ],
      "metadata": {
        "colab": {
          "base_uri": "https://localhost:8080/"
        },
        "id": "cBSvZQFDTuCN",
        "outputId": "5409f016-92a6-44fc-dcce-72fe327c0e5f"
      },
      "execution_count": 11,
      "outputs": [
        {
          "output_type": "stream",
          "name": "stdout",
          "text": [
            "[[1. 1. 1.]\n",
            " [2. 2. 2.]\n",
            " [3. 3. 3.]]\n"
          ]
        }
      ]
    },
    {
      "cell_type": "code",
      "source": [
        "m1 = np.eye (2)\n",
        "m1 = np. reshape (m1 ,( -1 ,4) ) [0]\n",
        "m2 = np. array ([[1 , 1 , 1 , 1] ,[2 , 2 , 2 , 2] , [3 , 3 , 3 , 3] , [4 , 4 , 4 , 4]])\n",
        "result = m1@m2\n",
        "print ( result )"
      ],
      "metadata": {
        "colab": {
          "base_uri": "https://localhost:8080/"
        },
        "id": "UFgV-y8eULHN",
        "outputId": "3ed2ed1d-8f76-49d9-b36e-d628763b4e33"
      },
      "execution_count": 12,
      "outputs": [
        {
          "output_type": "stream",
          "name": "stdout",
          "text": [
            "[5. 5. 5. 5.]\n"
          ]
        }
      ]
    },
    {
      "cell_type": "code",
      "source": [
        "m1 = np. array ([[1 , 2] , [3 , 4]])\n",
        "m1 = np. reshape (m1 ,( -1 ,4) , \"F\") [0]\n",
        "m2 = np. array ([[1 , 1 , 1 , 1] ,[2 , 2 , 2 , 2] , [3 , 3 , 3 , 3] , [4 , 4 , 4 , 4]])\n",
        "result = m1@m2\n",
        "print ( result )"
      ],
      "metadata": {
        "colab": {
          "base_uri": "https://localhost:8080/"
        },
        "id": "6BJgHGVsVul5",
        "outputId": "0a22cc4a-f036-47a7-8e2f-fbd904fb5abb"
      },
      "execution_count": 13,
      "outputs": [
        {
          "output_type": "stream",
          "name": "stdout",
          "text": [
            "[29 29 29 29]\n"
          ]
        }
      ]
    },
    {
      "cell_type": "code",
      "source": [
        "m1 = np. array ([[ -2 , 6] , [8 , -4]])\n",
        "result = inverse_matrix (m1)\n",
        "print ( result )"
      ],
      "metadata": {
        "colab": {
          "base_uri": "https://localhost:8080/"
        },
        "id": "Kx-blfjtV3c_",
        "outputId": "b73e7cd9-2545-49d5-e209-ba94d5a92c70"
      },
      "execution_count": 14,
      "outputs": [
        {
          "output_type": "stream",
          "name": "stdout",
          "text": [
            "[[0.1  0.15]\n",
            " [0.2  0.05]]\n"
          ]
        }
      ]
    },
    {
      "cell_type": "code",
      "source": [
        "matrix = np. array ([[0.9 , 0.2] , [0.1 , 0.8]])\n",
        "eigenvalues , eigenvectors = compute_eigenvalues_eigenvectors ( matrix )\n",
        "print ( eigenvectors )"
      ],
      "metadata": {
        "colab": {
          "base_uri": "https://localhost:8080/"
        },
        "id": "3uRGxTjsV_Xh",
        "outputId": "0e875376-dc3e-40d9-88cd-3051bf9e294a"
      },
      "execution_count": 19,
      "outputs": [
        {
          "output_type": "stream",
          "name": "stdout",
          "text": [
            "EigResult(eigenvalues=array([1. , 0.7]), eigenvectors=array([[ 0.89442719, -0.70710678],\n",
            "       [ 0.4472136 ,  0.70710678]]))\n"
          ]
        }
      ]
    },
    {
      "cell_type": "code",
      "source": [
        "x = np. array ([1 , 2 , 3 , 4])\n",
        "y = np. array ([1 , 0 , 3 , 0])\n",
        "result = compute_cosine (x,y)\n",
        "print ( round (result , 3) )"
      ],
      "metadata": {
        "colab": {
          "base_uri": "https://localhost:8080/"
        },
        "id": "lw7ME9wDWWb_",
        "outputId": "5cb849b9-7b7c-4b6c-8146-4f612912828a"
      },
      "execution_count": 32,
      "outputs": [
        {
          "output_type": "stream",
          "name": "stdout",
          "text": [
            "0.577\n"
          ]
        }
      ]
    },
    {
      "cell_type": "code",
      "source": [
        "import numpy as np\n",
        "from google . colab . patches import cv2_imshow\n",
        "import cv2\n",
        "\n",
        "bg1_image = cv2. imread ('/content/drive/MyDrive/homework/GreenBackground.png', 1)\n",
        "bg1_image = cv2. resize ( bg1_image , (678 , 381) )\n",
        "\n",
        "ob_image = cv2 . imread ('/content/drive/MyDrive/homework/Object.png', 1)\n",
        "ob_image = cv2 . resize ( ob_image , (678 , 381) )\n",
        "\n",
        "bg2_image = cv2. imread ('/content/drive/MyDrive/homework/NewBackground.jpg', 1)\n",
        "bg2_image = cv2. resize ( bg2_image , (678 , 381))"
      ],
      "metadata": {
        "id": "pSojPsJCXvoB"
      },
      "execution_count": 33,
      "outputs": []
    },
    {
      "cell_type": "code",
      "source": [
        "def compute_difference ( bg_img , input_img ) :\n",
        "# *********** Your code here ***********\n",
        "    difference_single_channel=np.subtract(bg_img,input_img)\n",
        "    return difference_single_channel"
      ],
      "metadata": {
        "id": "6trLbH24ciDG"
      },
      "execution_count": 37,
      "outputs": []
    },
    {
      "cell_type": "code",
      "source": [
        "difference_single_channel = compute_difference ( bg1_image , ob_image )\n",
        "cv2_imshow ( difference_single_channel )"
      ],
      "metadata": {
        "colab": {
          "base_uri": "https://localhost:8080/",
          "height": 398
        },
        "id": "kUbpH5SEdleX",
        "outputId": "38be0d90-f390-49d1-9416-bd84d21bdfa3"
      },
      "execution_count": 38,
      "outputs": [
        {
          "output_type": "display_data",
          "data": {
            "text/plain": [
              "<PIL.Image.Image image mode=RGB size=678x381>"
            ],
            "image/png": "[encoded data removed]"
          },
          "metadata": {}
        }
      ]
    },
    {
      "cell_type": "code",
      "source": [
        "def compute_binary_mask ( difference_single_channel ) :\n",
        "# *********** Your code here ***********\n",
        "      difference_binary = np.where(difference_single_channel >177, 255, 0).astype(np.uint8)\n",
        "      return difference_binary"
      ],
      "metadata": {
        "id": "o60AC2bNdoeZ"
      },
      "execution_count": 41,
      "outputs": []
    },
    {
      "cell_type": "code",
      "source": [
        "def replace_background ( bg1_image , bg2_image , ob_image ) :\n",
        "  difference_single_channel = compute_difference (\n",
        "                    bg1_image , ob_image\n",
        ")\n",
        "\n",
        "  binary_mask = compute_binary_mask ( difference_single_channel )\n",
        "\n",
        "  output = np. where ( binary_mask ==255 , ob_image , bg2_image )\n",
        "\n",
        "  return output"
      ],
      "metadata": {
        "id": "2S9oP4qCgRaO"
      },
      "execution_count": 43,
      "outputs": []
    },
    {
      "cell_type": "code",
      "source": [
        "binary_mask = compute_binary_mask ( difference_single_channel )\n",
        "cv2_imshow ( binary_mask )"
      ],
      "metadata": {
        "colab": {
          "base_uri": "https://localhost:8080/",
          "height": 398
        },
        "id": "NTqogoJFggyy",
        "outputId": "aca1eec8-7c95-4cc4-e3fa-5796e6d704ed"
      },
      "execution_count": 44,
      "outputs": [
        {
          "output_type": "display_data",
          "data": {
            "text/plain": [
              "<PIL.Image.Image image mode=RGB size=678x381>"
            ],
            "image/png": "[encoded data removed]"
          },
          "metadata": {}
        }
      ]
    }
  ]
}