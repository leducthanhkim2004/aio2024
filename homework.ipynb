{
  "nbformat": 4,
  "nbformat_minor": 0,
  "metadata": {
    "colab": {
      "provenance": []
    },
    "kernelspec": {
      "name": "python3",
      "display_name": "Python 3"
    },
    "language_info": {
      "name": "python"
    }
  },
  "cells": [
    {
      "cell_type": "code",
      "execution_count": 3,
      "metadata": {
        "colab": {
          "base_uri": "https://localhost:8080/"
        },
        "id": "GHXUTiz0PpRJ",
        "outputId": "519e5678-a0e9-43fa-89cd-af4e028671b1"
      },
      "outputs": [
        {
          "output_type": "stream",
          "name": "stdout",
          "text": [
            "tensor([0.0900, 0.2447, 0.6652])\n"
          ]
        }
      ],
      "source": [
        "import torch\n",
        "import torch.nn as nn\n",
        "\n",
        "class MySoftmax(nn.Module):\n",
        "  def __init__(self):\n",
        "    super().__init__() # Add missing parentheses after super\n",
        "  def forward(self,x):\n",
        "    x_max=torch.max(x,dim=0,keepdim=True)\n",
        "    x_exp=torch.exp(x-x_max.values) # Change x_max.value to x_max.values\n",
        "    partition=x_exp.sum(0,keepdims=True)\n",
        "    return x_exp/partition\n",
        "\n",
        "data=torch.tensor([1,2,3]) # Fix typo: tesnsor to tensor\n",
        "softmax_table=MySoftmax() # Change SoftMaxStable to MySoftmax\n",
        "output = softmax_table(data) # Call the softmax_table function with data\n",
        "# Remove incomplete assert statement\n",
        "print(output)\n"
      ]
    },
    {
      "cell_type": "code",
      "source": [
        "data = torch . Tensor ([1 , 2 , 300000000])\n",
        "my_softmax = MySoftmax ()\n",
        "output = my_softmax ( data )\n",
        "assert round ( output [0]. item () , 2) == 0.0\n",
        "output"
      ],
      "metadata": {
        "colab": {
          "base_uri": "https://localhost:8080/"
        },
        "id": "RYkzJ5LwSa7U",
        "outputId": "b6e39adf-bb63-40cd-b599-ced8fea256ee"
      },
      "execution_count": 6,
      "outputs": [
        {
          "output_type": "execute_result",
          "data": {
            "text/plain": [
              "tensor([0., 0., 1.])"
            ]
          },
          "metadata": {},
          "execution_count": 6
        }
      ]
    },
    {
      "cell_type": "code",
      "source": [
        "import torch\n",
        "import torch . nn as nn\n",
        "\n",
        "class SoftmaxStable ( nn . Module ):\n",
        "  def __init__ ( self ) :\n",
        "    super ().__init__ ()\n",
        "\n",
        "  def forward ( self , x ) :\n",
        "    #calculate based on  softmax table\n",
        "    max_val=torch.max(x)\n",
        "    exp_x=torch.exp(x-max_val)\n",
        "    sum_exp_x=torch.sum(exp_x)\n",
        "    return exp_x/sum_exp_x\n",
        "\n",
        "data = torch . Tensor ([1 , 2 , 3])\n",
        "softmax_stable = SoftmaxStable ()\n",
        "output = softmax_stable ( data )\n",
        "assert round ( output [ -1]. item () , 2) == 0.67\n",
        "output"
      ],
      "metadata": {
        "colab": {
          "base_uri": "https://localhost:8080/"
        },
        "id": "urpoA92HS1KI",
        "outputId": "dca7b8f8-80c9-4f1c-ac3c-efe105f742e7"
      },
      "execution_count": 5,
      "outputs": [
        {
          "output_type": "execute_result",
          "data": {
            "text/plain": [
              "tensor([0.0900, 0.2447, 0.6652])"
            ]
          },
          "metadata": {},
          "execution_count": 5
        }
      ]
    },
    {
      "cell_type": "code",
      "source": [
        "from abc import ABC,abstractmethod\n",
        "class Person(ABC):\n",
        "  def __init__(self,name:str,yob:int):\n",
        "    self._name=name\n",
        "    self._yob=yob\n",
        "  def get_yob(self):\n",
        "    return self._yob\n",
        "  @abstractmethod\n",
        "  def describe(self):\n",
        "    pass\n",
        "class Student(Person):\n",
        "  def __init__(self,name:str,yob:str,grade:str):\n",
        "    super().__init__(name,yob)\n",
        "    self._grade=grade\n",
        "  def get_name(self):\n",
        "    return self._name\n",
        "  def describe(self):\n",
        "        return f\"Student Name: {self._name}, Year of Birth: {self._yob}, Grade: {self._grade}\"\n",
        "\n",
        "# Example usage\n",
        "student = Student(\"John Doe\", 2000, \"A\")\n",
        "print(student.get_name())  # Output: John Doe\n",
        "print(student.get_yob())   # Output: 2000\n",
        "print(student.describe())"
      ],
      "metadata": {
        "colab": {
          "base_uri": "https://localhost:8080/"
        },
        "id": "GWULEfxqUj7d",
        "outputId": "3ef07f2d-960a-4b36-e050-8cb0f5e6da0e"
      },
      "execution_count": 10,
      "outputs": [
        {
          "output_type": "stream",
          "name": "stdout",
          "text": [
            "John Doe\n",
            "2000\n",
            "Student Name: John Doe, Year of Birth: 2000, Grade: A\n"
          ]
        }
      ]
    },
    {
      "cell_type": "code",
      "source": [
        "class Teacher(Person):\n",
        "    def __init__(self, name: str, yob: int, subject: str):\n",
        "        super().__init__(name, yob)\n",
        "        self._subject = subject\n",
        "\n",
        "    def describe(self):\n",
        "        return f\"Teacher Name: {self._name}, Year of Birth: {self._yob}, Subject: {self._subject}\"\n",
        "\n",
        "# Example usage\n",
        "teacher1 = Teacher(name=\"teacherZ2023\", yob=1991, subject=\"History\")\n",
        "assert teacher1._yob == 1991\n",
        "print(teacher1.describe())  # Output: Teacher Name: teacherZ2023, Year of Birth: 1991, Subject: History\n"
      ],
      "metadata": {
        "colab": {
          "base_uri": "https://localhost:8080/"
        },
        "id": "QsEAOGbPXaHE",
        "outputId": "40f6d268-b249-434d-ca0b-e2b1413022f1"
      },
      "execution_count": 14,
      "outputs": [
        {
          "output_type": "stream",
          "name": "stdout",
          "text": [
            "Teacher Name: teacherZ2023, Year of Birth: 1991, Subject: History\n"
          ]
        }
      ]
    },
    {
      "cell_type": "code",
      "source": [
        "class Doctor(Person):\n",
        "  def __init__(self,name:str,yob:int,specialist:str):\n",
        "      super().__init__(name,yob)\n",
        "      self._specialist=specialist\n",
        "  def describe(self):\n",
        "    return f\"The Doctor Name:{self._name},Year of Birth{self._yob},Specialist:{self._specialist}\"\n",
        "doctor1 = Doctor ( name =\" doctorZ2023 \", yob =1981 , specialist =\" Endocrinologists \")\n",
        "assert doctor1 . _yob == 1981\n",
        "doctor1.describe ()\n",
        ""
      ],
      "metadata": {
        "colab": {
          "base_uri": "https://localhost:8080/",
          "height": 36
        },
        "id": "pAeSi9zqZoUq",
        "outputId": "c509aed5-1e92-46fc-f7e9-5296ddce785f"
      },
      "execution_count": 17,
      "outputs": [
        {
          "output_type": "execute_result",
          "data": {
            "text/plain": [
              "'The Doctor Name: doctorZ2023 ,Year of Birth1981,Specialist: Endocrinologists '"
            ],
            "application/vnd.google.colaboratory.intrinsic+json": {
              "type": "string"
            }
          },
          "metadata": {},
          "execution_count": 17
        }
      ]
    },
    {
      "cell_type": "code",
      "source": [
        "class Ward:\n",
        "    def __init__(self, name):\n",
        "        self._name = name\n",
        "        self._list_people = list()\n",
        "\n",
        "    def add_person(self, person: Person):\n",
        "        self._list_people.append(person)\n",
        "\n",
        "    def describe(self):\n",
        "        print(f\"Ward Name: {self._name}\")\n",
        "        for person in self._list_people:\n",
        "            print(person.describe())\n",
        "\n",
        "    def count_doctor(self):\n",
        "        count = 0\n",
        "        for person in self._list_people:\n",
        "            if isinstance(person, Doctor):\n",
        "                count += 1\n",
        "        return count\n",
        "    def sort_age(self):\n",
        "        sorted_people = sorted(self._list_people, key=lambda x: x._yob)\n",
        "        return [person.describe() for person in sorted_people]\n",
        "    def averTeacher(self):\n",
        "      sum=0\n",
        "      count=0\n",
        "      for person in self._list_people:\n",
        "        if isinstance(person,Teacher):\n",
        "          sum+=person._yob\n",
        "          count+=1\n",
        "      return sum/count\n",
        "# Example usage\n",
        "student1 = Student(name=\"studentA\", yob=2010, grade=\"7\")\n",
        "teacher1 = Teacher(name=\"teacherA\", yob=1969, subject=\"Math\")\n",
        "teacher2 = Teacher(name=\"teacherB\", yob=1995, subject=\"History\")\n",
        "doctor1 = Doctor(name=\"doctorA\", yob=1945, specialist=\"Endocrinologists\")\n",
        "doctor2 = Doctor(name=\"doctorB\", yob=1975, specialist=\"Cardiologists\")\n",
        "\n",
        "ward1 = Ward(name=\"Ward1\")\n",
        "ward1.add_person(student1)\n",
        "ward1.add_person(teacher1)\n",
        "ward1.add_person(teacher2)\n",
        "ward1.add_person(doctor1)\n",
        "ward1.add_person(doctor2)\n",
        "print(ward1.sort_age())\n",
        "print(ward1.averTeacher())\n",
        "assert ward1.count_doctor() == 2\n",
        "\n",
        "ward1.describe()"
      ],
      "metadata": {
        "colab": {
          "base_uri": "https://localhost:8080/"
        },
        "id": "aCHziNIKbK1z",
        "outputId": "ab376a91-87b5-4fe4-ac7c-263eaf68fcd9"
      },
      "execution_count": 28,
      "outputs": [
        {
          "output_type": "stream",
          "name": "stdout",
          "text": [
            "['The Doctor Name:doctorA,Year of Birth1945,Specialist:Endocrinologists', 'Teacher Name: teacherA, Year of Birth: 1969, Subject: Math', 'The Doctor Name:doctorB,Year of Birth1975,Specialist:Cardiologists', 'Teacher Name: teacherB, Year of Birth: 1995, Subject: History', 'Student Name: studentA, Year of Birth: 2010, Grade: 7']\n",
            "1982.0\n",
            "Ward Name: Ward1\n",
            "Student Name: studentA, Year of Birth: 2010, Grade: 7\n",
            "Teacher Name: teacherA, Year of Birth: 1969, Subject: Math\n",
            "Teacher Name: teacherB, Year of Birth: 1995, Subject: History\n",
            "The Doctor Name:doctorA,Year of Birth1945,Specialist:Endocrinologists\n",
            "The Doctor Name:doctorB,Year of Birth1975,Specialist:Cardiologists\n"
          ]
        }
      ]
    },
    {
      "cell_type": "code",
      "source": [
        "class MyStack :\n",
        "  def __init__ ( self , capacity ) :\n",
        "      self . __capacity = capacity\n",
        "      self . __stack = []\n",
        "\n",
        "  def is_full ( self ) :\n",
        "        return len( self . __stack ) == self . __capacity\n",
        "\n",
        "  def push ( self , value ) :\n",
        " ### Your Code Here\n",
        "    if not self.is_full():\n",
        "      self.__stack.append(value)\n",
        "    else:\n",
        "      raise Exception(\"Stack is full\")\n",
        " ### End Code Here\n",
        "\n",
        "  def top ( self ) :\n",
        " ### Your Code Here\n",
        "    if self.__stack:\n",
        "      return self.__stack[-1]\n",
        "    else :\n",
        "       raise Exception(\"Stack is empty\")\n",
        " # End Code Here\n",
        "\n",
        "stack1 = MyStack(capacity=5)\n",
        "stack1.push(1)\n",
        "assert stack1.is_full() == False\n",
        "stack1.push(2)\n",
        "print(stack1.top())"
      ],
      "metadata": {
        "colab": {
          "base_uri": "https://localhost:8080/"
        },
        "id": "8ru4pz9yeNHz",
        "outputId": "69234c17-f546-473b-b16f-4b4ebefc2510"
      },
      "execution_count": 31,
      "outputs": [
        {
          "output_type": "stream",
          "name": "stdout",
          "text": [
            "2\n"
          ]
        }
      ]
    },
    {
      "cell_type": "code",
      "source": [
        "class MyQueue:\n",
        "    def __init__(self, capacity):\n",
        "        self.__capacity = capacity\n",
        "        self.__queue = []\n",
        "\n",
        "    def is_full(self):\n",
        "        return len(self.__queue) == self.__capacity\n",
        "\n",
        "    def enqueue(self, value):\n",
        "        if not self.is_full():\n",
        "            self.__queue.append(value)\n",
        "        else:\n",
        "            raise Exception(\"Queue is full\")\n",
        "\n",
        "    def dequeue(self):\n",
        "        if self.__queue:\n",
        "            return self.__queue.pop(0)\n",
        "        else:\n",
        "            raise Exception(\"Queue is empty\")\n",
        "\n",
        "    def front(self):\n",
        "        if self.__queue:\n",
        "            return self.__queue[0]\n",
        "        else:\n",
        "            raise Exception(\"Queue is empty\")\n",
        "\n",
        "# Example usage\n",
        "queue1 = MyQueue(capacity=5)\n",
        "queue1.enqueue(1)\n",
        "assert queue1.is_full() == False\n",
        "queue1.enqueue(2)\n",
        "print(queue1.front())  # Output: 1\n"
      ],
      "metadata": {
        "colab": {
          "base_uri": "https://localhost:8080/"
        },
        "id": "uuhHpA5SiFvj",
        "outputId": "6f8a4c58-bb9c-45f8-c82d-c18aad56c3c3"
      },
      "execution_count": 36,
      "outputs": [
        {
          "output_type": "stream",
          "name": "stdout",
          "text": [
            "1\n"
          ]
        }
      ]
    }
  ]
}